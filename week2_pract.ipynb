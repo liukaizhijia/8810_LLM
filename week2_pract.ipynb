{
  "cells": [
    {
      "cell_type": "code",
      "source": [
        "import torch\n",
        "import numpy as np\n",
        "import matplotlib.pyplot as plt"
      ],
      "metadata": {
        "id": "LFUks9XiaYp8"
      },
      "id": "LFUks9XiaYp8",
      "execution_count": 1,
      "outputs": []
    },
    {
      "cell_type": "code",
      "source": [
        "X_train = np.arange(10, dtype='float32').reshape((10, 1))\n",
        "y_train = np.array([1.0, 1.3, 3.1, 2.0, 5.0, 6.3, 6.6,\n",
        "                    7.4, 8.0, 9.0], dtype='float32')\n",
        "\n",
        "plt.plot(X_train, y_train, 'o', markersize=10)\n",
        "plt.xlabel('x')\n",
        "plt.ylabel('y')\n",
        "\n",
        "plt.show()"
      ],
      "metadata": {
        "colab": {
          "base_uri": "https://localhost:8080/",
          "height": 449
        },
        "id": "42poOOfpciRF",
        "outputId": "b203fb8f-5070-42a2-d6bc-6277909292cc"
      },
      "id": "42poOOfpciRF",
      "execution_count": 2,
      "outputs": [
        {
          "output_type": "display_data",
          "data": {
            "text/plain": [
              "<Figure size 640x480 with 1 Axes>"
            ],
            "image/png": "[encoded data removed]"
          },
          "metadata": {}
        }
      ]
    },
    {
      "cell_type": "code",
      "source": [
        "from torch.utils.data import TensorDataset\n",
        "from torch.utils.data import DataLoader\n",
        "## TODO: normalize data\n",
        "X_train_norm =\n",
        "## TODO: pytorch accepts tensor instead of numpy data, so we need transfer\n",
        "X_train_norm =\n",
        "## TODO: so is y\n",
        "y_train =\n",
        "# To feed the data into the networks, we need create a dataset\n",
        "train_ds = TensorDataset(X_train_norm, y_train)\n",
        "# In case the data is large, we can split into batches\n",
        "batch_size = 2\n",
        "train_dl = DataLoader(train_ds, batch_size, shuffle=True)\n",
        "len(train_dl)"
      ],
      "metadata": {
        "colab": {
          "base_uri": "https://localhost:8080/"
        },
        "id": "TyfWbbbwciiP",
        "outputId": "df898e78-68c9-445a-ef74-40d94f350646"
      },
      "id": "TyfWbbbwciiP",
      "execution_count": null,
      "outputs": [
        {
          "output_type": "execute_result",
          "data": {
            "text/plain": [
              "5"
            ]
          },
          "metadata": {},
          "execution_count": 13
        }
      ]
    },
    {
      "cell_type": "code",
      "source": [
        "train_dl.batch_size"
      ],
      "metadata": {
        "colab": {
          "base_uri": "https://localhost:8080/"
        },
        "id": "PToYsnb8f8bS",
        "outputId": "3883600a-d354-4aec-eee8-710942103f88"
      },
      "id": "PToYsnb8f8bS",
      "execution_count": null,
      "outputs": [
        {
          "output_type": "execute_result",
          "data": {
            "text/plain": [
              "2"
            ]
          },
          "metadata": {},
          "execution_count": 26
        }
      ]
    },
    {
      "cell_type": "code",
      "source": [
        "torch.manual_seed(1)\n",
        "weight = torch.randn(1)\n",
        "weight.requires_grad_()\n",
        "bias = torch.zeros(1, requires_grad=True)\n",
        "\n",
        "def loss_fn(input, target):\n",
        "    ## TODO: define the loss for least squares\n",
        "\n",
        "\n",
        "def model(xb):\n",
        "    ## TODO: given input xb, need the model output\n",
        "\n",
        "\n",
        "learning_rate = 0.001\n",
        "num_epochs = 200\n",
        "log_epochs = 10\n",
        "\n",
        "for epoch in range(num_epochs):\n",
        "    for x_batch, y_batch in train_dl:\n",
        "        ## TODO: need calculate the gradient to update parameters\n",
        "\n",
        "\n",
        "        with torch.no_grad():\n",
        "            ## TODO: update and reset gradient\n",
        "\n",
        "\n",
        "    if epoch % log_epochs==0:\n",
        "        print(f'Epoch {epoch}  Loss {loss.item():.4f}')"
      ],
      "metadata": {
        "colab": {
          "base_uri": "https://localhost:8080/"
        },
        "id": "WvarDlwwcilK",
        "outputId": "95f72a95-f0e1-4567-bccb-7e79cb295893"
      },
      "id": "WvarDlwwcilK",
      "execution_count": null,
      "outputs": [
        {
          "output_type": "stream",
          "name": "stdout",
          "text": [
            "Epoch 0  Loss 54.4459\n",
            "Epoch 10  Loss 26.6861\n",
            "Epoch 20  Loss 14.7747\n",
            "Epoch 30  Loss 21.1890\n",
            "Epoch 40  Loss 14.6957\n",
            "Epoch 50  Loss 19.7220\n",
            "Epoch 60  Loss 1.2443\n",
            "Epoch 70  Loss 13.1094\n",
            "Epoch 80  Loss 8.4891\n",
            "Epoch 90  Loss 4.3804\n",
            "Epoch 100  Loss 3.9785\n",
            "Epoch 110  Loss 5.4690\n",
            "Epoch 120  Loss 0.1450\n",
            "Epoch 130  Loss 2.4366\n",
            "Epoch 140  Loss 3.9358\n",
            "Epoch 150  Loss 1.1941\n",
            "Epoch 160  Loss 1.7712\n",
            "Epoch 170  Loss 1.0116\n",
            "Epoch 180  Loss 1.2025\n",
            "Epoch 190  Loss 0.9808\n"
          ]
        }
      ]
    },
    {
      "cell_type": "code",
      "source": [
        "print('Final Parameters:', weight.item(), bias.item())\n",
        "\n",
        "X_test = np.linspace(0, 9, num=100, dtype='float32').reshape(-1, 1)\n",
        "## TODO: need normalize data and feed it into the model\n",
        "X_test_norm =\n",
        "## TODO: output for X_test_norm\n",
        "y_pred =\n",
        "\n",
        "fig = plt.figure(figsize=(13, 5))\n",
        "ax = fig.add_subplot(1, 2, 1)\n",
        "plt.plot(X_train_norm, y_train, 'o', markersize=10)\n",
        "plt.plot(X_test_norm, y_pred, '--', lw=3)\n",
        "plt.legend(['Training examples', 'Linear Reg.'], fontsize=15)\n",
        "ax.set_xlabel('x', size=15)\n",
        "ax.set_ylabel('y', size=15)\n",
        "ax.tick_params(axis='both', which='major', labelsize=15)\n",
        "\n",
        "plt.savefig('training_LS.pdf')\n",
        "\n",
        "plt.show()"
      ],
      "metadata": {
        "colab": {
          "base_uri": "https://localhost:8080/",
          "height": 494
        },
        "id": "RiE7Z7TUcin-",
        "outputId": "2dfe4078-889f-4787-f251-6c6fe325d4b6"
      },
      "id": "RiE7Z7TUcin-",
      "execution_count": null,
      "outputs": [
        {
          "output_type": "stream",
          "name": "stdout",
          "text": [
            "Final Parameters: 2.4309542179107666 4.2993645668029785\n"
          ]
        },
        {
          "output_type": "display_data",
          "data": {
            "text/plain": [
              "<Figure size 1300x500 with 1 Axes>"
            ],
            "image/png": "[encoded data removed]"
          },
          "metadata": {}
        }
      ]
    },
    {
      "cell_type": "markdown",
      "source": [
        "Now we use nn to train the model"
      ],
      "metadata": {
        "id": "Zg3_O_wwjzz6"
      },
      "id": "Zg3_O_wwjzz6"
    },
    {
      "cell_type": "code",
      "source": [
        "import torch.nn as nn\n",
        "## TODO: determine the input and output size\n",
        "input_size =\n",
        "output_size =\n",
        "model = nn.Linear(input_size, output_size)\n",
        "## TODO: what loss should we use?\n",
        "loss_fn =\n",
        "\n",
        "optimizer = torch.optim.SGD(model.parameters(), lr=learning_rate)\n",
        "\n",
        "for epoch in range(num_epochs):\n",
        "    for x_batch, y_batch in train_dl:\n",
        "        # 1. Generate predictions\n",
        "\n",
        "        # 2. Calculate loss\n",
        "\n",
        "        # 3. Compute gradients\n",
        "\n",
        "        # 4. Update parameters using gradients\n",
        "\n",
        "        # 5. Reset the gradients to zero\n",
        "\n",
        "    if epoch % log_epochs==0:\n",
        "        print(f'Epoch {epoch}  Loss {loss.item():.4f}')"
      ],
      "metadata": {
        "colab": {
          "base_uri": "https://localhost:8080/"
        },
        "id": "Qqz0AGSccirB",
        "outputId": "9f6ee9df-67e6-468a-b850-4ee062fecac9"
      },
      "id": "Qqz0AGSccirB",
      "execution_count": null,
      "outputs": [
        {
          "output_type": "stream",
          "name": "stdout",
          "text": [
            "Epoch 0  Loss 43.4341\n",
            "Epoch 10  Loss 20.9163\n",
            "Epoch 20  Loss 15.0002\n",
            "Epoch 30  Loss 0.2223\n",
            "Epoch 40  Loss 24.6367\n",
            "Epoch 50  Loss 18.8138\n",
            "Epoch 60  Loss 24.5340\n",
            "Epoch 70  Loss 11.4962\n",
            "Epoch 80  Loss 3.2025\n",
            "Epoch 90  Loss 6.5843\n",
            "Epoch 100  Loss 6.8088\n",
            "Epoch 110  Loss 8.4566\n",
            "Epoch 120  Loss 1.7748\n",
            "Epoch 130  Loss 0.1984\n",
            "Epoch 140  Loss 2.5184\n",
            "Epoch 150  Loss 1.6353\n",
            "Epoch 160  Loss 1.3537\n",
            "Epoch 170  Loss 0.4488\n",
            "Epoch 180  Loss 1.6395\n",
            "Epoch 190  Loss 0.7331\n"
          ]
        }
      ]
    },
    {
      "cell_type": "code",
      "source": [
        "print('Final Parameters:', model.weight.item(), model.bias.item())\n",
        "\n",
        "X_test = np.linspace(0, 9, num=100, dtype='float32').reshape(-1, 1)\n",
        "## TODO: same as earlier\n",
        "X_test_norm =\n",
        "y_pred =\n",
        "\n",
        "\n",
        "fig = plt.figure(figsize=(13, 5))\n",
        "ax = fig.add_subplot(1, 2, 1)\n",
        "plt.plot(X_train_norm.detach().numpy(), y_train.detach().numpy(), 'o', markersize=10)\n",
        "plt.plot(X_test_norm.detach().numpy(), y_pred.detach().numpy(), '--', lw=3)\n",
        "plt.legend(['Training examples', 'Linear reg.'], fontsize=15)\n",
        "ax.set_xlabel('x', size=15)\n",
        "ax.set_ylabel('y', size=15)\n",
        "ax.tick_params(axis='both', which='major', labelsize=15)\n",
        "plt.show()"
      ],
      "metadata": {
        "colab": {
          "base_uri": "https://localhost:8080/",
          "height": 494
        },
        "id": "1i5Bo1ENcitz",
        "outputId": "24ef46c3-9abc-4933-b69f-02833b3d9da4"
      },
      "id": "1i5Bo1ENcitz",
      "execution_count": null,
      "outputs": [
        {
          "output_type": "stream",
          "name": "stdout",
          "text": [
            "Final Parameters: 2.281066417694092 4.282294273376465\n"
          ]
        },
        {
          "output_type": "display_data",
          "data": {
            "text/plain": [
              "<Figure size 1300x500 with 1 Axes>"
            ],
            "image/png": "[encoded data removed]"
          },
          "metadata": {}
        }
      ]
    },
    {
      "cell_type": "markdown",
      "source": [
        "We see either manual update or via built-in nn works well and the results are almost identical.  "
      ],
      "metadata": {
        "id": "fGAFEdt8dvUq"
      },
      "id": "fGAFEdt8dvUq"
    },
    {
      "cell_type": "markdown",
      "source": [
        "The above project is for regression and the folloing one is  classifying MNIST hand-written digits"
      ],
      "metadata": {
        "id": "TwA5YunddNig"
      },
      "id": "TwA5YunddNig"
    },
    {
      "cell_type": "code",
      "source": [
        "import torchvision\n",
        "from torchvision import transforms\n",
        "from torch.utils.data import DataLoader, TensorDataset\n",
        "\n",
        "\n",
        "image_path = './'\n",
        "transform = transforms.Compose([transforms.ToTensor()])\n",
        "\n",
        "mnist_train_dataset = torchvision.datasets.MNIST(root=image_path,\n",
        "                                           train=True,\n",
        "                                           transform=transform,\n",
        "                                           download=True)\n",
        "mnist_test_dataset = torchvision.datasets.MNIST(root=image_path,\n",
        "                                           train=False,\n",
        "                                           transform=transform,\n",
        "                                           download=False)\n",
        "\n",
        "batch_size = 64\n",
        "torch.manual_seed(1)\n",
        "train_dl = DataLoader(mnist_train_dataset, batch_size, shuffle=True)"
      ],
      "metadata": {
        "id": "Cqm6AZLGdJfb"
      },
      "id": "Cqm6AZLGdJfb",
      "execution_count": null,
      "outputs": []
    },
    {
      "cell_type": "code",
      "source": [
        "import torch.nn as nn\n",
        "hidden_units = [32, 16]\n",
        "## TODO: how can we obtain the input size of first linear layer\n",
        "input_size =\n",
        "all_layers = [nn.Flatten()]\n",
        "for hidden_unit in hidden_units:\n",
        "    layer = nn.Linear(input_size, hidden_unit)\n",
        "    all_layers.append(layer)\n",
        "    all_layers.append(nn.ReLU())\n",
        "    input_size = hidden_unit\n",
        "## TODO: add last linear layer\n",
        "all_layers.append()\n",
        "model = nn.Sequential(*all_layers)\n",
        "\n",
        "model\n"
      ],
      "metadata": {
        "colab": {
          "base_uri": "https://localhost:8080/"
        },
        "id": "1CA2zy6hdPKE",
        "outputId": "d834f9c3-dc26-413b-d304-fbfddc191fca"
      },
      "id": "1CA2zy6hdPKE",
      "execution_count": null,
      "outputs": [
        {
          "output_type": "execute_result",
          "data": {
            "text/plain": [
              "Sequential(\n",
              "  (0): Flatten(start_dim=1, end_dim=-1)\n",
              "  (1): Linear(in_features=784, out_features=32, bias=True)\n",
              "  (2): ReLU()\n",
              "  (3): Linear(in_features=32, out_features=16, bias=True)\n",
              "  (4): ReLU()\n",
              "  (5): Linear(in_features=16, out_features=10, bias=True)\n",
              ")"
            ]
          },
          "metadata": {},
          "execution_count": 6
        }
      ]
    },
    {
      "cell_type": "code",
      "source": [
        "## TDDO: what loss function should be used\n",
        "loss_fn =\n",
        "optimizer = torch.optim.Adam(model.parameters(), lr=0.001)\n",
        "\n",
        "torch.manual_seed(1)\n",
        "num_epochs = 20\n",
        "for epoch in range(num_epochs):\n",
        "    accuracy_hist_train = 0\n",
        "    for x_batch, y_batch in train_dl:\n",
        "        ## TODO: step 1--5 should be implemented in each loop\n",
        "\n",
        "\n",
        "        ## TODO: calculate how many predictions are correct\n",
        "        is_correct =\n",
        "        accuracy_hist_train += is_correct.sum()\n",
        "    ## TODO: calculate the mean accuracy\n",
        "    accuracy_hist_train\n",
        "    print(f'Epoch {epoch}  Accuracy {accuracy_hist_train:.4f}')"
      ],
      "metadata": {
        "colab": {
          "base_uri": "https://localhost:8080/"
        },
        "id": "c6jYtWCndi3g",
        "outputId": "d81fc0a4-4a99-4ec7-d6e3-115d4b7ba8cc"
      },
      "id": "c6jYtWCndi3g",
      "execution_count": null,
      "outputs": [
        {
          "output_type": "stream",
          "name": "stdout",
          "text": [
            "Epoch 0  Accuracy 0.9938\n",
            "Epoch 1  Accuracy 0.9936\n",
            "Epoch 2  Accuracy 0.9946\n",
            "Epoch 3  Accuracy 0.9937\n",
            "Epoch 4  Accuracy 0.9943\n",
            "Epoch 5  Accuracy 0.9951\n",
            "Epoch 6  Accuracy 0.9939\n",
            "Epoch 7  Accuracy 0.9954\n",
            "Epoch 8  Accuracy 0.9952\n",
            "Epoch 9  Accuracy 0.9947\n",
            "Epoch 10  Accuracy 0.9948\n",
            "Epoch 11  Accuracy 0.9957\n",
            "Epoch 12  Accuracy 0.9956\n",
            "Epoch 13  Accuracy 0.9959\n",
            "Epoch 14  Accuracy 0.9960\n",
            "Epoch 15  Accuracy 0.9960\n",
            "Epoch 16  Accuracy 0.9954\n",
            "Epoch 17  Accuracy 0.9952\n",
            "Epoch 18  Accuracy 0.9975\n",
            "Epoch 19  Accuracy 0.9966\n"
          ]
        }
      ]
    },
    {
      "cell_type": "code",
      "source": [
        "pred = model(mnist_test_dataset.data / 255.)\n",
        "print(f\"pred shape is: {pred.shape}\")\n",
        "print(f\"mnist_test_dataset.targets is: {mnist_test_dataset.targets.shape}\")\n",
        "## TODO: calculate testing accuracy\n",
        "is_correct = (torch.argmax(pred, dim=1) == mnist_test_dataset.targets).float()\n",
        "print(f'Test accuracy: {is_correct.mean():.4f}')"
      ],
      "metadata": {
        "colab": {
          "base_uri": "https://localhost:8080/"
        },
        "id": "f7hDwXcUeLrz",
        "outputId": "92625a7a-c5da-4360-dbf3-f3a2620cd5e2"
      },
      "id": "f7hDwXcUeLrz",
      "execution_count": null,
      "outputs": [
        {
          "output_type": "stream",
          "name": "stdout",
          "text": [
            "pred shape is: torch.Size([10000, 10])\n",
            "mnist_test_dataset.targets is: torch.Size([10000])\n",
            "Test accuracy: 0.9599\n"
          ]
        }
      ]
    },
    {
      "cell_type": "code",
      "source": [],
      "metadata": {
        "id": "OVh7_I6ye_KJ"
      },
      "id": "OVh7_I6ye_KJ",
      "execution_count": null,
      "outputs": []
    }
  ],
  "metadata": {
    "kernelspec": {
      "display_name": "Python 3",
      "language": "python",
      "name": "python3"
    },
    "language_info": {
      "codemirror_mode": {
        "name": "ipython",
        "version": 3
      },
      "file_extension": ".py",
      "mimetype": "text/x-python",
      "name": "python",
      "nbconvert_exporter": "python",
      "pygments_lexer": "ipython3",
      "version": "3.10.4"
    },
    "colab": {
      "provenance": []
    }
  },
  "nbformat": 4,
  "nbformat_minor": 5
}