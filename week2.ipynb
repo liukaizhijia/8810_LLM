{
 "cells": [
  {
   "cell_type": "markdown",
   "id": "b53fb156",
   "metadata": {},
   "source": [
    "# Beyond Least Squares: Computing Gradients in PyTorch\n",
    "\n",
    "In this notebook, we'll explore how PyTorch automates gradient computation through automatic differentiation. We'll:\n",
    "1. Compare manual and automatic gradient computation\n",
    "2. Understand different ways to compute gradients\n",
    "3. Implement gradient descent efficiently\n",
    "4. Train neural networks on real data\n",
    "\n",
    "## Setup"
   ]
  },
  {
   "cell_type": "code",
   "execution_count": 1,
   "id": "89ebd71f",
   "metadata": {
    "execution": {
     "iopub.execute_input": "2025-02-11T02:47:00.283402Z",
     "iopub.status.busy": "2025-02-11T02:47:00.283305Z",
     "iopub.status.idle": "2025-02-11T02:47:01.743198Z",
     "shell.execute_reply": "2025-02-11T02:47:01.742801Z"
    }
   },
   "outputs": [],
   "source": [
    "import torch\n",
    "import numpy as np\n",
    "import matplotlib.pyplot as plt\n",
    "from torchvision import datasets, transforms\n",
    "\n",
    "# Set random seed for reproducibility\n",
    "torch.manual_seed(42)\n",
    "np.random.seed(42)\n",
    "\n",
    "# Configure matplotlib for notebook display\n",
    "plt.rcParams.update({\n",
    "    'figure.figsize': (12, 6),\n",
    "    'axes.titlesize': 14,\n",
    "    'axes.labelsize': 12\n",
    "})"
   ]
  },
  {
   "cell_type": "markdown",
   "id": "eb91083e",
   "metadata": {},
   "source": [
    "## A Simple Example: Polynomial Function\n",
    "\n",
    "Let's start with a simple one-dimensional function to understand automatic differentiation:\n",
    "\n",
    "$$ f(x) = x^3 - 3x $$\n",
    "\n",
    "The manual gradient computation would be:\n",
    "$$ \\frac{d}{dx}f(x) = 3x^2 - 3 $$\n",
    "\n",
    "PyTorch can compute this gradient automatically:"
   ]
  },
  {
   "cell_type": "code",
   "execution_count": 2,
   "id": "ce5f3bec",
   "metadata": {
    "execution": {
     "iopub.execute_input": "2025-02-11T02:47:01.745852Z",
     "iopub.status.busy": "2025-02-11T02:47:01.745653Z",
     "iopub.status.idle": "2025-02-11T02:47:01.749721Z",
     "shell.execute_reply": "2025-02-11T02:47:01.749392Z"
    }
   },
   "outputs": [
    {
     "name": "stdout",
     "output_type": "stream",
     "text": [
      "f'(1) = tensor([0.])\n"
     ]
    }
   ],
   "source": [
    "# Create input tensor with gradient tracking\n",
    "x = torch.tensor([1.0], requires_grad=True)\n",
    "\n",
    "# Forward pass: compute function value\n",
    "y = x**3 - 3*x\n",
    "\n",
    "# Backward pass: compute gradient\n",
    "y.backward()\n",
    "\n",
    "print(f\"f'(1) = {x.grad}\")  # Should be 0 (critical point)"
   ]
  },
  {
   "cell_type": "markdown",
   "id": "84931734",
   "metadata": {},
   "source": [
    "Let's verify this matches our manual computation across different x values:"
   ]
  },
  {
   "cell_type": "code",
   "execution_count": 3,
   "id": "b76e12d2",
   "metadata": {
    "execution": {
     "iopub.execute_input": "2025-02-11T02:47:01.751731Z",
     "iopub.status.busy": "2025-02-11T02:47:01.751571Z",
     "iopub.status.idle": "2025-02-11T02:47:01.841941Z",
     "shell.execute_reply": "2025-02-11T02:47:01.841579Z"
    }
   },
   "outputs": [
    {
     "data": {
      "image/png": "[encoded data removed]",
      "text/plain": [
       "<Figure size 720x432 with 1 Axes>"
      ]
     },
     "metadata": {
      "needs_background": "light"
     },
     "output_type": "display_data"
    }
   ],
   "source": [
    "def manual_gradient(x):\n",
    "    \"\"\"Compute gradient manually\"\"\"\n",
    "    return 3 * x**2 - 3\n",
    "\n",
    "def plot_gradients():\n",
    "    \"\"\"Compare manual and automatic gradients\"\"\"\n",
    "    x_vals = torch.linspace(-2, 2, 100)\n",
    "    manual_grads = manual_gradient(x_vals)\n",
    "    \n",
    "    # Compute automatic gradients\n",
    "    auto_grads = []\n",
    "    for x_val in x_vals:\n",
    "        x = torch.tensor([float(x_val)], requires_grad=True)\n",
    "        y = x**3 - 3*x\n",
    "        y.backward()\n",
    "        auto_grads.append(x.grad.item())\n",
    "    \n",
    "    plt.figure(figsize=(10, 6))\n",
    "    plt.plot(x_vals, manual_grads, 'b-', label='Manual', alpha=0.7)\n",
    "    plt.plot(x_vals, auto_grads, 'r--', label='PyTorch', alpha=0.7)\n",
    "    plt.grid(True)\n",
    "    plt.xlabel('x')\n",
    "    plt.ylabel('df/dx')\n",
    "    plt.title('Gradient Comparison')\n",
    "    plt.legend()\n",
    "    plt.show()\n",
    "\n",
    "plot_gradients()"
   ]
  },
  {
   "cell_type": "markdown",
   "id": "7faeca0a",
   "metadata": {
    "lines_to_next_cell": 0
   },
   "source": [
    "The perfect agreement between manual and automatic gradients demonstrates PyTorch's accuracy. This automatic differentiation becomes invaluable for more complex functions where manual gradient computation would be tedious and error-prone. \n",
    "\n",
    "## Two Ways to Compute Gradients\n",
    "\n",
    "PyTorch provides two main approaches for computing gradients:\n",
    "\n",
    "1. Using `backward()`:"
   ]
  },
  {
   "cell_type": "code",
   "execution_count": 4,
   "id": "108ec6f7",
   "metadata": {
    "execution": {
     "iopub.execute_input": "2025-02-11T02:47:01.843750Z",
     "iopub.status.busy": "2025-02-11T02:47:01.843619Z",
     "iopub.status.idle": "2025-02-11T02:47:01.846485Z",
     "shell.execute_reply": "2025-02-11T02:47:01.846148Z"
    }
   },
   "outputs": [
    {
     "name": "stdout",
     "output_type": "stream",
     "text": [
      "Using backward(): tensor([0.])\n"
     ]
    }
   ],
   "source": [
    "# Create graph\n",
    "x = torch.tensor([1.0], requires_grad=True)\n",
    "y = x**3 - 3*x\n",
    "\n",
    "# Compute gradients\n",
    "y.backward()\n",
    "grad = x.grad  # Gradient stored in tensor\n",
    "print(f\"Using backward(): {grad}\")"
   ]
  },
  {
   "cell_type": "markdown",
   "id": "6d6bbbc7",
   "metadata": {
    "lines_to_next_cell": 0
   },
   "source": [
    "2. Using `autograd.grad()`:"
   ]
  },
  {
   "cell_type": "code",
   "execution_count": 5,
   "id": "8c0c726f",
   "metadata": {
    "execution": {
     "iopub.execute_input": "2025-02-11T02:47:01.848223Z",
     "iopub.status.busy": "2025-02-11T02:47:01.848104Z",
     "iopub.status.idle": "2025-02-11T02:47:01.850583Z",
     "shell.execute_reply": "2025-02-11T02:47:01.850337Z"
    }
   },
   "outputs": [
    {
     "name": "stdout",
     "output_type": "stream",
     "text": [
      "Using autograd.grad(): tensor([0.])\n"
     ]
    }
   ],
   "source": [
    "# Create graph\n",
    "x = torch.tensor([1.0], requires_grad=True)\n",
    "y = x**3 - 3*x\n",
    "\n",
    "# Direct computation\n",
    "grad = torch.autograd.grad(y, x)[0]\n",
    "print(f\"Using autograd.grad(): {grad}\")"
   ]
  },
  {
   "cell_type": "markdown",
   "id": "4d453a96",
   "metadata": {},
   "source": [
    "The key differences are:\n",
    "\n",
    "1. `backward()`:\n",
    "   - Best for training loops\n",
    "   - Stores gradients in tensors\n",
    "   - Memory efficient\n",
    "   - Supports gradient accumulation\n",
    "\n",
    "2. `autograd.grad()`:\n",
    "   - Best for one-off gradients\n",
    "   - Direct access to gradients\n",
    "   - Cleaner for higher derivatives\n",
    "   - No gradient accumulation\n",
    "\n",
    "Let's see an example of gradient accumulation with `backward()`:"
   ]
  },
  {
   "cell_type": "code",
   "execution_count": 6,
   "id": "adace498",
   "metadata": {
    "execution": {
     "iopub.execute_input": "2025-02-11T02:47:01.852153Z",
     "iopub.status.busy": "2025-02-11T02:47:01.852048Z",
     "iopub.status.idle": "2025-02-11T02:47:01.855315Z",
     "shell.execute_reply": "2025-02-11T02:47:01.854915Z"
    }
   },
   "outputs": [
    {
     "name": "stdout",
     "output_type": "stream",
     "text": [
      "After first backward(): tensor([0.])\n",
      "After second backward(): tensor([0.])\n",
      "After reset: tensor([0.])\n"
     ]
    }
   ],
   "source": [
    "# Reset gradients\n",
    "x = torch.tensor([1.0], requires_grad=True)\n",
    "y = x**3 - 3*x\n",
    "\n",
    "# First backward pass\n",
    "y.backward(retain_graph=True)  # retain_graph=True allows multiple backward passes\n",
    "print(f\"After first backward(): {x.grad}\")\n",
    "\n",
    "# Second backward pass (gradients accumulate!)\n",
    "y.backward()\n",
    "print(f\"After second backward(): {x.grad}\")  # Note the gradient has doubled\n",
    "\n",
    "# Reset gradients\n",
    "x.grad.zero_()\n",
    "print(f\"After reset: {x.grad}\")"
   ]
  },
  {
   "cell_type": "markdown",
   "id": "d75903a6",
   "metadata": {},
   "source": [
    "This behavior is why we need to call `zero_grad()` in training loops. In contrast, `autograd.grad()` doesn't accumulate:"
   ]
  },
  {
   "cell_type": "code",
   "execution_count": 7,
   "id": "b8edc7bc",
   "metadata": {
    "execution": {
     "iopub.execute_input": "2025-02-11T02:47:01.857176Z",
     "iopub.status.busy": "2025-02-11T02:47:01.857057Z",
     "iopub.status.idle": "2025-02-11T02:47:01.860891Z",
     "shell.execute_reply": "2025-02-11T02:47:01.860562Z"
    }
   },
   "outputs": [
    {
     "name": "stdout",
     "output_type": "stream",
     "text": [
      "Error: Trying to backward through the graph a second time (or directly access saved tensors after they have already been freed). Saved intermediate values of the graph are freed when you call .backward() or autograd.grad(). Specify retain_graph=True if you need to backward through the graph a second time or if you need to access saved tensors after calling backward.\n",
      "\n",
      "With retain_graph=True:\n",
      "First call: tensor([0.])\n",
      "Second call: tensor([0.])\n"
     ]
    }
   ],
   "source": [
    "# First example: shows error without retain_graph\n",
    "x = torch.tensor([1.0], requires_grad=True)\n",
    "y = x**3 - 3*x\n",
    "\n",
    "try:\n",
    "    grad1 = torch.autograd.grad(y, x)[0]\n",
    "    grad2 = torch.autograd.grad(y, x)[0]  # This will raise an error\n",
    "    print(f\"First call: {grad1}\")\n",
    "    print(f\"Second call: {grad2}\")\n",
    "except RuntimeError as e:\n",
    "    print(f\"Error: {e}\")\n",
    "\n",
    "# Second example: shows correct usage with retain_graph\n",
    "print(\"\\nWith retain_graph=True:\")\n",
    "x = torch.tensor([1.0], requires_grad=True)  # Create new graph\n",
    "y = x**3 - 3*x\n",
    "grad1 = torch.autograd.grad(y, x, retain_graph=True)[0]\n",
    "grad2 = torch.autograd.grad(y, x)[0]\n",
    "print(f\"First call: {grad1}\")\n",
    "print(f\"Second call: {grad2}\")"
   ]
  },
  {
   "cell_type": "markdown",
   "id": "e9789ed4",
   "metadata": {},
   "source": [
    "## Common Pitfalls in PyTorch\n",
    "\n",
    "There are several common mistakes that can break gradient computation or cause memory issues:\n",
    "\n",
    "### 1. In-place Operations"
   ]
  },
  {
   "cell_type": "code",
   "execution_count": 8,
   "id": "98a03398",
   "metadata": {
    "execution": {
     "iopub.execute_input": "2025-02-11T02:47:01.863179Z",
     "iopub.status.busy": "2025-02-11T02:47:01.863030Z",
     "iopub.status.idle": "2025-02-11T02:47:01.867428Z",
     "shell.execute_reply": "2025-02-11T02:47:01.867103Z"
    }
   },
   "outputs": [
    {
     "name": "stdout",
     "output_type": "stream",
     "text": [
      "Before in-place op, y.grad_fn: <SqrtBackward0 object at 0x107e174f0>\n",
      "After in-place op, y.grad_fn: <AddBackward0 object at 0x107eb24d0>\n",
      "Error with in-place operation: one of the variables needed for gradient computation has been modified by an inplace operation: [torch.FloatTensor [1]], which is output 0 of SqrtBackward0, is at version 1; expected version 0 instead. Hint: enable anomaly detection to find the operation that failed to compute its gradient, with torch.autograd.set_detect_anomaly(True).\n",
      "\n",
      "Why did this happen?\n",
      "The in-place operation (y.add_(1)) modified sqrt's output\n",
      "This invalidated the saved value needed to compute the gradient:\n",
      "d/dx sqrt(x) = 1/(2*sqrt(x))\n",
      "\n",
      "Correct gradient: tensor([0.7500])\n"
     ]
    }
   ],
   "source": [
    "# Create a tensor with gradients enabled\n",
    "x = torch.tensor([4.0], requires_grad=True)\n",
    "\n",
    "# Compute the square root. For sqrt, the backward pass needs the original output\n",
    "y = torch.sqrt(x)  # y is 2.0, and sqrt's backward uses this value\n",
    "\n",
    "# Show the gradient function before modification\n",
    "print(\"Before in-place op, y.grad_fn:\", y.grad_fn)\n",
    "\n",
    "# Define another operation that uses y\n",
    "\n",
    "try:\n",
    "    # In-place modify y. This alters the saved value needed by the sqrt backward\n",
    "    y.add_(1)  # Now y becomes 3.0\n",
    "    print(\"After in-place op, y.grad_fn:\", y.grad_fn)  # The grad_fn is now None\n",
    "    z = 3 * y\n",
    "\n",
    "    # Attempt to compute gradients. This will trigger a RuntimeError\n",
    "    z.backward()\n",
    "    print(\"This line won't be reached\")\n",
    "except RuntimeError as e:\n",
    "    print(f\"Error with in-place operation: {e}\")\n",
    "\n",
    "print(\"\\nWhy did this happen?\")\n",
    "print(\"The in-place operation (y.add_(1)) modified sqrt's output\")\n",
    "print(\"This invalidated the saved value needed to compute the gradient:\")\n",
    "print(\"d/dx sqrt(x) = 1/(2*sqrt(x))\")\n",
    "\n",
    "# Correct way: use out-of-place operations\n",
    "x = torch.tensor([4.0], requires_grad=True)\n",
    "y = torch.sqrt(x)\n",
    "# Instead of modifying y in-place, create a new tensor\n",
    "y = y + 1\n",
    "z = 3 * y\n",
    "z.backward()  # This works fine\n",
    "print(\"\\nCorrect gradient:\", x.grad)"
   ]
  },
  {
   "cell_type": "markdown",
   "id": "3f27b286",
   "metadata": {},
   "source": [
    "### 2. Memory Management\n",
    "\n",
    "The `torch.no_grad()` context manager is crucial for memory efficiency:"
   ]
  },
  {
   "cell_type": "code",
   "execution_count": 9,
   "id": "2938f2f4",
   "metadata": {
    "execution": {
     "iopub.execute_input": "2025-02-11T02:47:01.869235Z",
     "iopub.status.busy": "2025-02-11T02:47:01.869123Z",
     "iopub.status.idle": "2025-02-11T02:47:01.888153Z",
     "shell.execute_reply": "2025-02-11T02:47:01.887816Z"
    }
   },
   "outputs": [
    {
     "name": "stdout",
     "output_type": "stream",
     "text": [
      "Gradient tracking: True\n",
      "No gradient tracking: False\n"
     ]
    }
   ],
   "source": [
    "# Create large tensors\n",
    "X = torch.randn(1000, 1000, requires_grad=True)\n",
    "y = torch.randn(1000)\n",
    "\n",
    "def compute_loss(X, y):\n",
    "    return ((X @ X.t() @ y - y)**2).sum()\n",
    "\n",
    "# Memory inefficient: tracks all computations\n",
    "loss1 = compute_loss(X, y)\n",
    "\n",
    "# Memory efficient: no gradient tracking during evaluation\n",
    "with torch.no_grad():\n",
    "    loss2 = compute_loss(X, y)\n",
    "\n",
    "print(f\"Gradient tracking: {loss1.requires_grad}\")\n",
    "print(f\"No gradient tracking: {loss2.requires_grad}\")"
   ]
  },
  {
   "cell_type": "markdown",
   "id": "40b10a31",
   "metadata": {},
   "source": [
    "### 3. Gradient Accumulation\n",
    "\n",
    "When training with multiple backward passes, remember to zero gradients:"
   ]
  },
  {
   "cell_type": "code",
   "execution_count": 10,
   "id": "ca5ba579",
   "metadata": {
    "execution": {
     "iopub.execute_input": "2025-02-11T02:47:01.890033Z",
     "iopub.status.busy": "2025-02-11T02:47:01.889881Z",
     "iopub.status.idle": "2025-02-11T02:47:01.893819Z",
     "shell.execute_reply": "2025-02-11T02:47:01.893514Z"
    }
   },
   "outputs": [
    {
     "name": "stdout",
     "output_type": "stream",
     "text": [
      "Accumulated gradient: tensor([2.])\n",
      "Clean gradient: tensor([2.])\n",
      "Accumulated gradient: tensor([3.6000])\n",
      "Clean gradient: tensor([1.6000])\n"
     ]
    }
   ],
   "source": [
    "x = torch.tensor([1.0], requires_grad=True)\n",
    "optimizer = torch.optim.SGD([x], lr=0.1)\n",
    "\n",
    "for _ in range(2):\n",
    "    y = x**2\n",
    "    \n",
    "    # Wrong: gradients accumulate\n",
    "    y.backward(retain_graph=True)  # Need retain_graph=True for multiple backward passes\n",
    "    print(f\"Accumulated gradient: {x.grad}\")\n",
    "    \n",
    "    # Correct: zero gradients before backward\n",
    "    optimizer.zero_grad()\n",
    "    y = x**2  # Need to recompute y since previous backward consumed the graph\n",
    "    y.backward()\n",
    "    print(f\"Clean gradient: {x.grad}\")\n",
    "    \n",
    "    optimizer.step()"
   ]
  },
  {
   "cell_type": "markdown",
   "id": "94ff0ac3",
   "metadata": {},
   "source": [
    "These patterns become especially important when training deep networks where mistakes can be harder to debug. \n",
    "\n",
    "## Least Squares Gradients\n",
    "\n",
    "Let's compare manual and automatic gradient computation for least squares regression:\n",
    "\n",
    "$$ f(w) = \\frac{1}{2}\\|Xw - y\\|^2 $$\n",
    "\n",
    "The manual gradient is:\n",
    "$$ \\nabla f = X^\\top(Xw - y) $$\n",
    "\n",
    "Let's implement both approaches:"
   ]
  },
  {
   "cell_type": "code",
   "execution_count": 11,
   "id": "2cca807c",
   "metadata": {
    "execution": {
     "iopub.execute_input": "2025-02-11T02:47:01.895785Z",
     "iopub.status.busy": "2025-02-11T02:47:01.895687Z",
     "iopub.status.idle": "2025-02-11T02:47:01.900046Z",
     "shell.execute_reply": "2025-02-11T02:47:01.899747Z"
    }
   },
   "outputs": [
    {
     "name": "stdout",
     "output_type": "stream",
     "text": [
      "Manual gradient: tensor([ 181.4544,   17.5285,   44.8792, -267.6077,    6.6792])\n",
      "PyTorch gradient: tensor([ 181.4544,   17.5285,   44.8792, -267.6077,    6.6792])\n",
      "Maximum difference: tensor(0.)\n"
     ]
    }
   ],
   "source": [
    "# Generate synthetic data\n",
    "n, p = 100, 5\n",
    "X = torch.randn(n, p)\n",
    "w_true = torch.randn(p)\n",
    "y = X @ w_true + 0.1 * torch.randn(n)\n",
    "\n",
    "def manual_gradient(X, y, w):\n",
    "    \"\"\"Compute least squares gradient manually\"\"\"\n",
    "    return X.T @ (X @ w - y)\n",
    "\n",
    "def pytorch_gradient(X, y, w):\n",
    "    \"\"\"Compute least squares gradient using PyTorch\"\"\"\n",
    "    w = w.clone().requires_grad_(True)\n",
    "    f = 0.5 * torch.sum((X @ w - y)**2)\n",
    "    f.backward()\n",
    "    return w.grad\n",
    "\n",
    "# Compare gradients\n",
    "w = torch.randn(p)\n",
    "grad_manual = manual_gradient(X, y, w)\n",
    "grad_pytorch = pytorch_gradient(X, y, w)\n",
    "\n",
    "print(\"Manual gradient:\", grad_manual)\n",
    "print(\"PyTorch gradient:\", grad_pytorch)\n",
    "print(\"Maximum difference:\", torch.max(torch.abs(grad_manual - grad_pytorch)))"
   ]
  },
  {
   "cell_type": "markdown",
   "id": "3d3147d7",
   "metadata": {},
   "source": [
    "Let's visualize how these gradients evolve during optimization:"
   ]
  },
  {
   "cell_type": "code",
   "execution_count": 12,
   "id": "ba55e684",
   "metadata": {
    "execution": {
     "iopub.execute_input": "2025-02-11T02:47:01.901832Z",
     "iopub.status.busy": "2025-02-11T02:47:01.901701Z",
     "iopub.status.idle": "2025-02-11T02:47:02.142633Z",
     "shell.execute_reply": "2025-02-11T02:47:02.142310Z"
    }
   },
   "outputs": [
    {
     "data": {
      "image/png": "[encoded data removed]",
      "text/plain": [
       "<Figure size 720x432 with 1 Axes>"
      ]
     },
     "metadata": {
      "needs_background": "light"
     },
     "output_type": "display_data"
    }
   ],
   "source": [
    "def compare_gradient_descent():\n",
    "    \"\"\"Compare manual and PyTorch gradient descent\"\"\"\n",
    "    # Initialize parameters\n",
    "    w_manual = torch.randn(p)\n",
    "    w_pytorch = w_manual.clone()\n",
    "    alpha = 0.01\n",
    "    n_steps = 100\n",
    "    \n",
    "    # Track losses\n",
    "    manual_losses = []\n",
    "    pytorch_losses = []\n",
    "    \n",
    "    for step in range(n_steps):\n",
    "        # Manual update\n",
    "        loss_manual = 0.5 * torch.sum((X @ w_manual - y)**2)\n",
    "        grad_manual = manual_gradient(X, y, w_manual)\n",
    "        w_manual = w_manual - alpha * grad_manual\n",
    "        manual_losses.append(loss_manual.item())\n",
    "        \n",
    "        # PyTorch update\n",
    "        w_pytorch.requires_grad_(True)\n",
    "        loss_pytorch = 0.5 * torch.sum((X @ w_pytorch - y)**2)\n",
    "        loss_pytorch.backward()\n",
    "        with torch.no_grad():\n",
    "            w_pytorch = w_pytorch - alpha * w_pytorch.grad\n",
    "            w_pytorch.grad = None\n",
    "        pytorch_losses.append(loss_pytorch.item())\n",
    "    \n",
    "    # Plot results\n",
    "    plt.figure(figsize=(10, 6))\n",
    "    plt.semilogy(manual_losses, 'b-', label='Manual', alpha=0.7)\n",
    "    plt.semilogy(pytorch_losses, 'r--', label='PyTorch', alpha=0.7)\n",
    "    plt.grid(True)\n",
    "    plt.xlabel('Step')\n",
    "    plt.ylabel('Loss')\n",
    "    plt.title('Gradient Descent Comparison')\n",
    "    plt.legend()\n",
    "    plt.show()\n",
    "\n",
    "compare_gradient_descent()"
   ]
  },
  {
   "cell_type": "markdown",
   "id": "c10d5684",
   "metadata": {},
   "source": [
    "The identical convergence paths confirm that PyTorch's automatic differentiation gives us exactly the same gradients as manual computation, but without the need to derive and implement gradients by hand. \n",
    "\n",
    "## MNIST Classification\n",
    "\n",
    "Now let's apply these concepts to a real problem: classifying MNIST digits as odd or even. We'll compare logistic regression with a simple neural network.\n",
    "\n",
    "### Data Loading and Preprocessing"
   ]
  },
  {
   "cell_type": "code",
   "execution_count": 13,
   "id": "4e6f1ad4",
   "metadata": {
    "execution": {
     "iopub.execute_input": "2025-02-11T02:47:02.144560Z",
     "iopub.status.busy": "2025-02-11T02:47:02.144423Z",
     "iopub.status.idle": "2025-02-11T02:47:02.466245Z",
     "shell.execute_reply": "2025-02-11T02:47:02.465751Z"
    }
   },
   "outputs": [
    {
     "name": "stdout",
     "output_type": "stream",
     "text": [
      "Loading MNIST dataset...\n"
     ]
    }
   ],
   "source": [
    "print(\"Loading MNIST dataset...\")\n",
    "# Load MNIST dataset\n",
    "transform = transforms.Compose([\n",
    "    transforms.ToTensor(),\n",
    "    transforms.Normalize((0.1307,), (0.3081,))\n",
    "])\n",
    "\n",
    "train_dataset = datasets.MNIST('./data', train=True, download=True, transform=transform)\n",
    "test_dataset = datasets.MNIST('./data', train=False, download=True, transform=transform)\n",
    "\n",
    "# Sample subset for faster training\n",
    "n_samples = 5000\n",
    "n_val = 1000\n",
    "train_indices = torch.randperm(len(train_dataset))[:n_samples]\n",
    "\n",
    "def get_binary_data(dataset, indices):\n",
    "    \"\"\"Convert MNIST to binary classification (odd vs even)\"\"\"\n",
    "    X, y, raw_images = [], [], []\n",
    "    subset = torch.utils.data.Subset(dataset, indices)\n",
    "    \n",
    "    for img, label in subset:\n",
    "        X.append(img.view(-1))\n",
    "        y.append(label % 2)  # 0 for even, 1 for odd\n",
    "        raw_images.append(img.clone())\n",
    "    \n",
    "    return (torch.stack(X),\n",
    "            torch.tensor(y, dtype=torch.float32),\n",
    "            torch.stack(raw_images))\n",
    "\n",
    "# Prepare training data\n",
    "X_train, y_train, raw_images_train = get_binary_data(train_dataset, train_indices[:-n_val])\n",
    "X_val, y_val, raw_images_val = get_binary_data(train_dataset, train_indices[-n_val:])"
   ]
  },
  {
   "cell_type": "markdown",
   "id": "4f4634ff",
   "metadata": {},
   "source": [
    "### Model Definitions"
   ]
  },
  {
   "cell_type": "code",
   "execution_count": 14,
   "id": "6823a8b5",
   "metadata": {
    "execution": {
     "iopub.execute_input": "2025-02-11T02:47:02.468474Z",
     "iopub.status.busy": "2025-02-11T02:47:02.468324Z",
     "iopub.status.idle": "2025-02-11T02:47:02.472054Z",
     "shell.execute_reply": "2025-02-11T02:47:02.471735Z"
    }
   },
   "outputs": [],
   "source": [
    "class Logistic(torch.nn.Module):\n",
    "    def __init__(self, input_dim):\n",
    "        super().__init__()\n",
    "        self.linear = torch.nn.Linear(input_dim, 1, bias=False)\n",
    "        \n",
    "    def forward(self, x):\n",
    "        return torch.sigmoid(self.linear(x))\n",
    "\n",
    "class SimpleNN(torch.nn.Module):\n",
    "    def __init__(self):\n",
    "        super().__init__()\n",
    "        self.fc1 = torch.nn.Linear(784, 32)\n",
    "        self.fc2 = torch.nn.Linear(32, 1)\n",
    "        \n",
    "    def forward(self, x):\n",
    "        h = torch.relu(self.fc1(x))\n",
    "        return torch.sigmoid(self.fc2(h))\n",
    "\n",
    "# Initialize models\n",
    "n_features = 784\n",
    "logistic_model = Logistic(n_features)\n",
    "neural_net = SimpleNN()"
   ]
  },
  {
   "cell_type": "markdown",
   "id": "2f3d0c2a",
   "metadata": {},
   "source": [
    "### Training Loop"
   ]
  },
  {
   "cell_type": "code",
   "execution_count": 15,
   "id": "14285ddf",
   "metadata": {
    "execution": {
     "iopub.execute_input": "2025-02-11T02:47:02.473813Z",
     "iopub.status.busy": "2025-02-11T02:47:02.473713Z",
     "iopub.status.idle": "2025-02-11T02:47:06.290066Z",
     "shell.execute_reply": "2025-02-11T02:47:06.289642Z"
    }
   },
   "outputs": [
    {
     "name": "stdout",
     "output_type": "stream",
     "text": [
      "\n",
      "Training logistic regression...\n",
      "Step 0, Loss: 0.6916, Acc: 0.5560\n",
      "Step 10, Loss: 0.4943, Acc: 0.7943\n"
     ]
    },
    {
     "name": "stdout",
     "output_type": "stream",
     "text": [
      "Step 20, Loss: 0.4324, Acc: 0.8240\n",
      "Step 30, Loss: 0.4014, Acc: 0.8340\n",
      "Step 40, Loss: 0.3823, Acc: 0.8428\n",
      "Step 50, Loss: 0.3692, Acc: 0.8470\n",
      "Step 60, Loss: 0.3595, Acc: 0.8520\n"
     ]
    },
    {
     "name": "stdout",
     "output_type": "stream",
     "text": [
      "Step 70, Loss: 0.3519, Acc: 0.8555\n",
      "Step 80, Loss: 0.3458, Acc: 0.8562\n",
      "Step 90, Loss: 0.3407, Acc: 0.8597\n",
      "Step 100, Loss: 0.3363, Acc: 0.8620\n",
      "Step 110, Loss: 0.3326, Acc: 0.8620\n",
      "Step 120, Loss: 0.3293, Acc: 0.8635\n",
      "Step 130, Loss: 0.3263, Acc: 0.8650\n",
      "Step 140, Loss: 0.3237, Acc: 0.8665\n",
      "Step 150, Loss: 0.3213, Acc: 0.8675\n",
      "Step 160, Loss: 0.3191, Acc: 0.8687\n",
      "Step 170, Loss: 0.3171, Acc: 0.8695\n",
      "Step 180, Loss: 0.3153, Acc: 0.8698\n",
      "Step 190, Loss: 0.3135, Acc: 0.8705\n",
      "Step 200, Loss: 0.3119, Acc: 0.8730\n",
      "Step 210, Loss: 0.3104, Acc: 0.8733\n",
      "Step 220, Loss: 0.3090, Acc: 0.8748\n",
      "Step 230, Loss: 0.3077, Acc: 0.8758\n",
      "Step 240, Loss: 0.3064, Acc: 0.8763\n",
      "Step 250, Loss: 0.3052, Acc: 0.8770\n",
      "Step 260, Loss: 0.3041, Acc: 0.8767\n",
      "Step 270, Loss: 0.3030, Acc: 0.8775\n",
      "Step 280, Loss: 0.3019, Acc: 0.8777\n",
      "Step 290, Loss: 0.3009, Acc: 0.8780\n",
      "Step 300, Loss: 0.3000, Acc: 0.8780\n",
      "Step 310, Loss: 0.2991, Acc: 0.8785\n",
      "Step 320, Loss: 0.2982, Acc: 0.8788\n",
      "Step 330, Loss: 0.2973, Acc: 0.8788\n",
      "Step 340, Loss: 0.2965, Acc: 0.8785\n",
      "Step 350, Loss: 0.2957, Acc: 0.8785\n",
      "Step 360, Loss: 0.2950, Acc: 0.8790\n",
      "Step 370, Loss: 0.2942, Acc: 0.8792\n"
     ]
    },
    {
     "name": "stdout",
     "output_type": "stream",
     "text": [
      "Step 380, Loss: 0.2935, Acc: 0.8795\n",
      "Step 390, Loss: 0.2928, Acc: 0.8800\n",
      "Step 400, Loss: 0.2921, Acc: 0.8802\n",
      "Step 410, Loss: 0.2915, Acc: 0.8810\n",
      "Step 420, Loss: 0.2908, Acc: 0.8813\n",
      "Step 430, Loss: 0.2902, Acc: 0.8820\n",
      "Step 440, Loss: 0.2896, Acc: 0.8827\n",
      "Step 450, Loss: 0.2890, Acc: 0.8830\n",
      "Step 460, Loss: 0.2884, Acc: 0.8838\n",
      "Step 470, Loss: 0.2878, Acc: 0.8842\n",
      "Step 480, Loss: 0.2873, Acc: 0.8845\n",
      "Step 490, Loss: 0.2867, Acc: 0.8848\n",
      "Step 500, Loss: 0.2862, Acc: 0.8848\n",
      "Step 510, Loss: 0.2857, Acc: 0.8850\n",
      "Step 520, Loss: 0.2852, Acc: 0.8852\n",
      "Step 530, Loss: 0.2847, Acc: 0.8857\n",
      "Step 540, Loss: 0.2842, Acc: 0.8860\n",
      "Step 550, Loss: 0.2837, Acc: 0.8865\n",
      "Step 560, Loss: 0.2832, Acc: 0.8870\n",
      "Step 570, Loss: 0.2828, Acc: 0.8870\n",
      "Step 580, Loss: 0.2823, Acc: 0.8870\n",
      "Step 590, Loss: 0.2819, Acc: 0.8878\n",
      "Step 600, Loss: 0.2815, Acc: 0.8882\n",
      "Step 610, Loss: 0.2810, Acc: 0.8882\n",
      "Step 620, Loss: 0.2806, Acc: 0.8890\n",
      "Step 630, Loss: 0.2802, Acc: 0.8890\n",
      "Step 640, Loss: 0.2798, Acc: 0.8892\n",
      "Step 650, Loss: 0.2794, Acc: 0.8895\n",
      "Step 660, Loss: 0.2790, Acc: 0.8895\n",
      "Step 670, Loss: 0.2786, Acc: 0.8895\n",
      "Step 680, Loss: 0.2782, Acc: 0.8895\n",
      "Step 690, Loss: 0.2778, Acc: 0.8892\n",
      "Step 700, Loss: 0.2775, Acc: 0.8892\n",
      "Step 710, Loss: 0.2771, Acc: 0.8900\n",
      "Step 720, Loss: 0.2768, Acc: 0.8903\n",
      "Step 730, Loss: 0.2764, Acc: 0.8905\n",
      "Step 740, Loss: 0.2760, Acc: 0.8915\n",
      "Step 750, Loss: 0.2757, Acc: 0.8915\n",
      "Step 760, Loss: 0.2754, Acc: 0.8913\n",
      "Step 770, Loss: 0.2750, Acc: 0.8910\n"
     ]
    },
    {
     "name": "stdout",
     "output_type": "stream",
     "text": [
      "Step 780, Loss: 0.2747, Acc: 0.8910\n",
      "Step 790, Loss: 0.2744, Acc: 0.8907\n",
      "Step 800, Loss: 0.2741, Acc: 0.8910\n",
      "Step 810, Loss: 0.2737, Acc: 0.8913\n",
      "Step 820, Loss: 0.2734, Acc: 0.8915\n",
      "Step 830, Loss: 0.2731, Acc: 0.8915\n",
      "Step 840, Loss: 0.2728, Acc: 0.8915\n",
      "Step 850, Loss: 0.2725, Acc: 0.8915\n",
      "Step 860, Loss: 0.2722, Acc: 0.8915\n",
      "Step 870, Loss: 0.2719, Acc: 0.8917\n",
      "Step 880, Loss: 0.2716, Acc: 0.8928\n",
      "Step 890, Loss: 0.2713, Acc: 0.8930\n",
      "Step 900, Loss: 0.2710, Acc: 0.8928\n",
      "Step 910, Loss: 0.2708, Acc: 0.8928\n",
      "Step 920, Loss: 0.2705, Acc: 0.8928\n",
      "Step 930, Loss: 0.2702, Acc: 0.8925\n",
      "Step 940, Loss: 0.2699, Acc: 0.8925\n",
      "Step 950, Loss: 0.2697, Acc: 0.8925\n",
      "Step 960, Loss: 0.2694, Acc: 0.8928\n",
      "Step 970, Loss: 0.2691, Acc: 0.8930\n",
      "Step 980, Loss: 0.2689, Acc: 0.8932\n",
      "Step 990, Loss: 0.2686, Acc: 0.8932\n",
      "\n",
      "Training neural network...\n",
      "Step 0, Loss: 0.6713, Acc: 0.6463\n",
      "Step 10, Loss: 0.6256, Acc: 0.7638\n",
      "Step 20, Loss: 0.5809, Acc: 0.8012\n",
      "Step 30, Loss: 0.5397, Acc: 0.8185\n"
     ]
    },
    {
     "name": "stdout",
     "output_type": "stream",
     "text": [
      "Step 40, Loss: 0.5031, Acc: 0.8267\n",
      "Step 50, Loss: 0.4719, Acc: 0.8345\n",
      "Step 60, Loss: 0.4458, Acc: 0.8407\n",
      "Step 70, Loss: 0.4242, Acc: 0.8432\n",
      "Step 80, Loss: 0.4064, Acc: 0.8460\n",
      "Step 90, Loss: 0.3917, Acc: 0.8495\n",
      "Step 100, Loss: 0.3796, Acc: 0.8520\n"
     ]
    },
    {
     "name": "stdout",
     "output_type": "stream",
     "text": [
      "Step 110, Loss: 0.3696, Acc: 0.8540\n",
      "Step 120, Loss: 0.3610, Acc: 0.8568\n",
      "Step 130, Loss: 0.3537, Acc: 0.8597\n",
      "Step 140, Loss: 0.3473, Acc: 0.8627\n",
      "Step 150, Loss: 0.3416, Acc: 0.8640\n",
      "Step 160, Loss: 0.3365, Acc: 0.8668\n",
      "Step 170, Loss: 0.3320, Acc: 0.8683\n",
      "Step 180, Loss: 0.3279, Acc: 0.8690\n",
      "Step 190, Loss: 0.3241, Acc: 0.8710\n",
      "Step 200, Loss: 0.3205, Acc: 0.8715\n"
     ]
    },
    {
     "name": "stdout",
     "output_type": "stream",
     "text": [
      "Step 210, Loss: 0.3172, Acc: 0.8723\n",
      "Step 220, Loss: 0.3141, Acc: 0.8725\n",
      "Step 230, Loss: 0.3112, Acc: 0.8745\n",
      "Step 240, Loss: 0.3085, Acc: 0.8748\n",
      "Step 250, Loss: 0.3058, Acc: 0.8760\n",
      "Step 260, Loss: 0.3033, Acc: 0.8773\n",
      "Step 270, Loss: 0.3008, Acc: 0.8773\n",
      "Step 280, Loss: 0.2985, Acc: 0.8777\n",
      "Step 290, Loss: 0.2962, Acc: 0.8785\n"
     ]
    },
    {
     "name": "stdout",
     "output_type": "stream",
     "text": [
      "Step 300, Loss: 0.2940, Acc: 0.8800\n",
      "Step 310, Loss: 0.2919, Acc: 0.8815\n",
      "Step 320, Loss: 0.2898, Acc: 0.8832\n",
      "Step 330, Loss: 0.2877, Acc: 0.8840\n",
      "Step 340, Loss: 0.2857, Acc: 0.8852\n",
      "Step 350, Loss: 0.2837, Acc: 0.8860\n",
      "Step 360, Loss: 0.2818, Acc: 0.8890\n"
     ]
    },
    {
     "name": "stdout",
     "output_type": "stream",
     "text": [
      "Step 370, Loss: 0.2799, Acc: 0.8907\n",
      "Step 380, Loss: 0.2779, Acc: 0.8907\n",
      "Step 390, Loss: 0.2761, Acc: 0.8917\n",
      "Step 400, Loss: 0.2742, Acc: 0.8925\n",
      "Step 410, Loss: 0.2723, Acc: 0.8938\n",
      "Step 420, Loss: 0.2705, Acc: 0.8938\n",
      "Step 430, Loss: 0.2687, Acc: 0.8945\n",
      "Step 440, Loss: 0.2668, Acc: 0.8957\n",
      "Step 450, Loss: 0.2651, Acc: 0.8972\n",
      "Step 460, Loss: 0.2633, Acc: 0.8980\n"
     ]
    },
    {
     "name": "stdout",
     "output_type": "stream",
     "text": [
      "Step 470, Loss: 0.2615, Acc: 0.8988\n",
      "Step 480, Loss: 0.2597, Acc: 0.8992\n",
      "Step 490, Loss: 0.2580, Acc: 0.8997\n",
      "Step 500, Loss: 0.2562, Acc: 0.9005\n",
      "Step 510, Loss: 0.2545, Acc: 0.9015\n",
      "Step 520, Loss: 0.2527, Acc: 0.9022\n",
      "Step 530, Loss: 0.2510, Acc: 0.9025\n",
      "Step 540, Loss: 0.2493, Acc: 0.9035\n",
      "Step 550, Loss: 0.2476, Acc: 0.9055\n",
      "Step 560, Loss: 0.2459, Acc: 0.9065\n"
     ]
    },
    {
     "name": "stdout",
     "output_type": "stream",
     "text": [
      "Step 570, Loss: 0.2442, Acc: 0.9075\n",
      "Step 580, Loss: 0.2425, Acc: 0.9090\n",
      "Step 590, Loss: 0.2408, Acc: 0.9100\n",
      "Step 600, Loss: 0.2391, Acc: 0.9110\n",
      "Step 610, Loss: 0.2375, Acc: 0.9128\n",
      "Step 620, Loss: 0.2358, Acc: 0.9130\n",
      "Step 630, Loss: 0.2341, Acc: 0.9150\n",
      "Step 640, Loss: 0.2325, Acc: 0.9165\n",
      "Step 650, Loss: 0.2308, Acc: 0.9172\n"
     ]
    },
    {
     "name": "stdout",
     "output_type": "stream",
     "text": [
      "Step 660, Loss: 0.2291, Acc: 0.9178\n",
      "Step 670, Loss: 0.2275, Acc: 0.9185\n",
      "Step 680, Loss: 0.2259, Acc: 0.9200\n",
      "Step 690, Loss: 0.2243, Acc: 0.9205\n"
     ]
    },
    {
     "name": "stdout",
     "output_type": "stream",
     "text": [
      "Step 700, Loss: 0.2227, Acc: 0.9205\n",
      "Step 710, Loss: 0.2211, Acc: 0.9227\n",
      "Step 720, Loss: 0.2195, Acc: 0.9235\n",
      "Step 730, Loss: 0.2179, Acc: 0.9237\n",
      "Step 740, Loss: 0.2163, Acc: 0.9250\n",
      "Step 750, Loss: 0.2147, Acc: 0.9255\n"
     ]
    },
    {
     "name": "stdout",
     "output_type": "stream",
     "text": [
      "Step 760, Loss: 0.2132, Acc: 0.9273\n",
      "Step 770, Loss: 0.2116, Acc: 0.9280\n",
      "Step 780, Loss: 0.2101, Acc: 0.9293\n",
      "Step 790, Loss: 0.2085, Acc: 0.9305\n",
      "Step 800, Loss: 0.2070, Acc: 0.9308\n",
      "Step 810, Loss: 0.2055, Acc: 0.9317\n"
     ]
    },
    {
     "name": "stdout",
     "output_type": "stream",
     "text": [
      "Step 820, Loss: 0.2040, Acc: 0.9323\n",
      "Step 830, Loss: 0.2025, Acc: 0.9335\n",
      "Step 840, Loss: 0.2010, Acc: 0.9337\n",
      "Step 850, Loss: 0.1995, Acc: 0.9345\n",
      "Step 860, Loss: 0.1980, Acc: 0.9340\n",
      "Step 870, Loss: 0.1965, Acc: 0.9345\n"
     ]
    },
    {
     "name": "stdout",
     "output_type": "stream",
     "text": [
      "Step 880, Loss: 0.1951, Acc: 0.9352\n",
      "Step 890, Loss: 0.1936, Acc: 0.9358\n",
      "Step 900, Loss: 0.1922, Acc: 0.9362\n",
      "Step 910, Loss: 0.1908, Acc: 0.9365\n",
      "Step 920, Loss: 0.1894, Acc: 0.9375\n",
      "Step 930, Loss: 0.1880, Acc: 0.9380\n"
     ]
    },
    {
     "name": "stdout",
     "output_type": "stream",
     "text": [
      "Step 940, Loss: 0.1866, Acc: 0.9390\n",
      "Step 950, Loss: 0.1853, Acc: 0.9395\n",
      "Step 960, Loss: 0.1839, Acc: 0.9405\n",
      "Step 970, Loss: 0.1826, Acc: 0.9415\n",
      "Step 980, Loss: 0.1813, Acc: 0.9423\n",
      "Step 990, Loss: 0.1800, Acc: 0.9440\n"
     ]
    }
   ],
   "source": [
    "def compute_metrics(model, X, y, criterion):\n",
    "    \"\"\"Compute loss and accuracy\"\"\"\n",
    "    with torch.no_grad():\n",
    "        y_pred = model(X)\n",
    "        y_pred = y_pred.squeeze()\n",
    "        \n",
    "        loss = criterion(y_pred, y).item()\n",
    "        preds = (y_pred >= 0.5).float()\n",
    "        acc = (preds == y).float().mean().item()\n",
    "    return loss, acc, preds\n",
    "\n",
    "def train_model(model, X_train, y_train, X_val, y_val, alpha=0.01, n_steps=1000):\n",
    "    \"\"\"Train model and track metrics\"\"\"\n",
    "    criterion = torch.nn.BCELoss()\n",
    "    metrics = {'train_loss': [], 'train_acc': [], \n",
    "              'val_loss': [], 'val_acc': [], 'iterations': []}\n",
    "    \n",
    "    for step in range(n_steps):\n",
    "        y_pred = model(X_train)\n",
    "        loss = criterion(y_pred.squeeze(), y_train)\n",
    "            \n",
    "        loss.backward()\n",
    "        \n",
    "        with torch.no_grad():\n",
    "            for param in model.parameters():\n",
    "                param -= alpha * param.grad\n",
    "                param.grad.zero_()\n",
    "        \n",
    "        if step % 10 == 0:\n",
    "            train_loss, train_acc, train_preds = compute_metrics(\n",
    "                model, X_train, y_train, criterion)\n",
    "            val_loss, val_acc, val_preds = compute_metrics(\n",
    "                model, X_val, y_val, criterion)\n",
    "            \n",
    "            metrics['train_loss'].append(train_loss)\n",
    "            metrics['train_acc'].append(train_acc)\n",
    "            metrics['val_loss'].append(val_loss)\n",
    "            metrics['val_acc'].append(val_acc)\n",
    "            metrics['iterations'].append(step)\n",
    "            \n",
    "            print(f\"Step {step}, Loss: {train_loss:.4f}, Acc: {train_acc:.4f}\")\n",
    "    \n",
    "    return metrics\n",
    "\n",
    "print(\"\\nTraining logistic regression...\")\n",
    "logistic_metrics = train_model(logistic_model, X_train, y_train, X_val, y_val)\n",
    "\n",
    "print(\"\\nTraining neural network...\")\n",
    "nn_metrics = train_model(neural_net, X_train, y_train, X_val, y_val)"
   ]
  },
  {
   "cell_type": "markdown",
   "id": "d366bf27",
   "metadata": {},
   "source": [
    "### Results Analysis"
   ]
  },
  {
   "cell_type": "code",
   "execution_count": 16,
   "id": "68980da8",
   "metadata": {
    "execution": {
     "iopub.execute_input": "2025-02-11T02:47:06.292335Z",
     "iopub.status.busy": "2025-02-11T02:47:06.292167Z",
     "iopub.status.idle": "2025-02-11T02:47:06.449294Z",
     "shell.execute_reply": "2025-02-11T02:47:06.448640Z"
    }
   },
   "outputs": [
    {
     "data": {
      "image/png": "[encoded data removed]",
      "text/plain": [
       "<Figure size 864x360 with 2 Axes>"
      ]
     },
     "metadata": {
      "needs_background": "light"
     },
     "output_type": "display_data"
    },
    {
     "name": "stdout",
     "output_type": "stream",
     "text": [
      "\n",
      "Model Performance Analysis:\n",
      "1. Logistic Regression:\n",
      "   - Test Accuracy: 88.10%\n",
      "   - Uses linear decision boundary\n",
      "   - Faster training, simpler model\n",
      "\n",
      "2. Neural Network:\n",
      "   - Test Accuracy: 92.10%\n",
      "   - Non-linear decision boundary via hidden layer\n",
      "   - Better performance but more complex\n",
      "\n",
      "Key Findings:\n",
      "1. Neural network outperforms logistic regression by 4.00% on test set\n",
      "2. Both models achieve good performance, showing the task is learnable\n",
      "3. The neural network's non-linear decision boundary allows it to capture more complex patterns\n"
     ]
    }
   ],
   "source": [
    "def plot_training_curves(logistic_metrics, nn_metrics):\n",
    "    \"\"\"Plot training curves comparing both models\"\"\"\n",
    "    fig, (ax1, ax2) = plt.subplots(1, 2, figsize=(12, 5))\n",
    "    \n",
    "    # Plot loss curves\n",
    "    ax1.plot(logistic_metrics['iterations'], logistic_metrics['train_loss'],\n",
    "             label='Logistic (train)', color='royalblue', alpha=0.7)\n",
    "    ax1.plot(logistic_metrics['iterations'], logistic_metrics['val_loss'],\n",
    "             label='Logistic (val)', color='royalblue', linestyle='--', alpha=0.7)\n",
    "    ax1.plot(nn_metrics['iterations'], nn_metrics['train_loss'],\n",
    "             label='Neural Net (train)', color='firebrick', alpha=0.7)\n",
    "    ax1.plot(nn_metrics['iterations'], nn_metrics['val_loss'],\n",
    "             label='Neural Net (val)', color='firebrick', linestyle='--', alpha=0.7)\n",
    "    ax1.set_xlabel('Training Steps')\n",
    "    ax1.set_ylabel('Loss')\n",
    "    ax1.set_title('Training and Validation Loss')\n",
    "    ax1.legend()\n",
    "    \n",
    "    # Plot accuracy curves\n",
    "    ax2.plot(logistic_metrics['iterations'], logistic_metrics['train_acc'],\n",
    "             label='Logistic (train)', color='royalblue', alpha=0.7)\n",
    "    ax2.plot(logistic_metrics['iterations'], logistic_metrics['val_acc'],\n",
    "             label='Logistic (val)', color='royalblue', linestyle='--', alpha=0.7)\n",
    "    ax2.plot(nn_metrics['iterations'], nn_metrics['train_acc'],\n",
    "             label='Neural Net (train)', color='firebrick', alpha=0.7)\n",
    "    ax2.plot(nn_metrics['iterations'], nn_metrics['val_acc'],\n",
    "             label='Neural Net (val)', color='firebrick', linestyle='--', alpha=0.7)\n",
    "    ax2.set_xlabel('Training Steps')\n",
    "    ax2.set_ylabel('Accuracy')\n",
    "    ax2.set_title('Training and Validation Accuracy')\n",
    "    ax2.legend()\n",
    "    \n",
    "    plt.tight_layout()\n",
    "    plt.show()\n",
    "\n",
    "plot_training_curves(logistic_metrics, nn_metrics)\n",
    "\n",
    "print(\"\\nModel Performance Analysis:\")\n",
    "print(\"1. Logistic Regression:\")\n",
    "print(f\"   - Test Accuracy: {logistic_metrics['val_acc'][-1]:.2%}\")\n",
    "print(\"   - Uses linear decision boundary\")\n",
    "print(\"   - Faster training, simpler model\")\n",
    "\n",
    "print(\"\\n2. Neural Network:\")\n",
    "print(f\"   - Test Accuracy: {nn_metrics['val_acc'][-1]:.2%}\")\n",
    "print(\"   - Non-linear decision boundary via hidden layer\")\n",
    "print(\"   - Better performance but more complex\")\n",
    "\n",
    "print(\"\\nKey Findings:\")\n",
    "print(f\"1. Neural network outperforms logistic regression by {nn_metrics['val_acc'][-1] - logistic_metrics['val_acc'][-1]:.2%} on test set\")\n",
    "print(\"2. Both models achieve good performance, showing the task is learnable\")\n",
    "print(\"3. The neural network's non-linear decision boundary allows it to capture more complex patterns\")"
   ]
  },
  {
   "cell_type": "markdown",
   "id": "d9492664",
   "metadata": {},
   "source": [
    "This example demonstrates how PyTorch's automatic differentiation enables us to easily train complex models. The same gradient computation principles we explored with simple polynomials scale seamlessly to deep neural networks with thousands of parameters. "
   ]
  }
 ],
 "metadata": {
  "kernelspec": {
   "display_name": "Python 3",
   "language": "python",
   "name": "python3"
  },
  "language_info": {
   "codemirror_mode": {
    "name": "ipython",
    "version": 3
   },
   "file_extension": ".py",
   "mimetype": "text/x-python",
   "name": "python",
   "nbconvert_exporter": "python",
   "pygments_lexer": "ipython3",
   "version": "3.10.4"
  }
 },
 "nbformat": 4,
 "nbformat_minor": 5
}
